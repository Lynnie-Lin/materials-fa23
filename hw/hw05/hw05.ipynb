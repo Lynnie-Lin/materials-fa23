{
 "cells": [
  {
   "cell_type": "code",
   "execution_count": 1,
   "metadata": {
    "deletable": false,
    "editable": false
   },
   "outputs": [
    {
     "name": "stderr",
     "output_type": "stream",
     "text": [
      "/data/renhong/anaconda3/envs/su20/lib/python3.9/site-packages/nbformat/__init__.py:93: MissingIDFieldWarning: Code cell is missing an id field, this will become a hard error in future nbformat versions. You may want to use `normalize()` on your notebooks before validations (available since nbformat 5.1.4). Previous versions of nbformat are fixing this issue transparently, and will stop doing so in the future.\n",
      "  validate(nb)\n"
     ]
    }
   ],
   "source": [
    "# Initialize Otter\n",
    "import otter\n",
    "grader = otter.Notebook(\"hw05.ipynb\")"
   ]
  },
  {
   "cell_type": "markdown",
   "metadata": {},
   "source": [
    "# Homework 5: Applying Functions and Iteration\n",
    "\n",
    "Please complete this notebook by filling in the cells provided. Before you begin, execute the previous cell to load the provided tests."
   ]
  },
  {
   "attachments": {},
   "cell_type": "markdown",
   "metadata": {},
   "source": [
    "**Helpful Resource:**\n",
    "- [Python Reference](http://data8.org/fa23/reference/): Cheat sheet of helpful array & table methods used in Data 8!\n",
    "\n",
    "**Recommended Readings**: \n",
    "\n",
    "* [Tabular Thinking Guide](https://drive.google.com/file/d/1D9PXUgDLXjFBXZoyGVSKpzk0nKQziDTP/view?usp=sharing)\n",
    "* [Applying Functions](https://www.inferentialthinking.com/chapters/08/1/Applying_a_Function_to_a_Column.html)\n",
    "* [Conditionals](https://www.inferentialthinking.com/chapters/09/1/Conditional_Statements.html)\n",
    "* [Iteration](https://www.inferentialthinking.com/chapters/09/2/Iteration.html)"
   ]
  },
  {
   "attachments": {},
   "cell_type": "markdown",
   "metadata": {},
   "source": [
    "Please complete this notebook by filling in the cells provided. **Before you begin, execute the cell below to setup the notebook by importing some helpful libraries.** Each time you start your server, you will need to execute this cell again.\n",
    "\n",
    "For all problems that you must write explanations and sentences for, you **must** provide your answer in the designated space. Moreover, throughout this homework and all future ones, **please be sure to not re-assign variables throughout the notebook!** For example, if you use `max_temperature` in your answer to one question, do not reassign it later on. Otherwise, you will fail tests that you thought you were passing previously!\n",
    "\n",
    "**Deadline:**\n",
    "\n",
    "This assignment is **due Wednesday, 2/27 at 11:00pm PT**. Turn it in by Tuesday, 2/26 at 11:00pm PT for 5 extra credit points. Late work will not be accepted as per the [policies](http://data8.org/fa23/policies/) page.\n",
    "\n",
    "<span style=\"color:red\">**Note: This homework has hidden tests on it. That means even though tests may say 100% passed, it doesn't mean your final grade will be 100%. We will be running more tests for correctness once everyone turns in the homework.**</span>\n",
    "\n",
    "Directly sharing answers is not okay, but discussing problems with the course staff or with other students is encouraged. Refer to the [policies](http://data8.org/fa23/policies/#learning-cooperatively) page to learn more about how to learn cooperatively.\n",
    "\n",
    "You should start early so that you have time to get help if you're stuck. Office hours are held Monday through Friday in [Warren Hall](https://www.berkeley.edu/map?warren) 101B. The office hours schedule appears [here](http://data8.org/fa23/officehours/)."
   ]
  },
  {
   "cell_type": "markdown",
   "metadata": {},
   "source": [
    "## 0. Midterm Accommodations Form"
   ]
  },
  {
   "attachments": {},
   "cell_type": "markdown",
   "metadata": {},
   "source": [
    "**Question 1.** The DATA C8 Fall 2023 Midterm Exam will take place on **Friday, October 13th from 7PM - 9PM PT**. Please complete this form so that we can best accommodate you for the midterm.\n",
    "_**All students are required to fill out this form**_. The deadline to submit this form is **Saturday, October 7th by 11:59PM.** The link can be found below. **(1 Point)**\n",
    "\n",
    "- [Fall 2023 Midterm Accommodations Survey](https://forms.gle/havE742QdpzJxvvq7)"
   ]
  },
  {
   "cell_type": "markdown",
   "metadata": {},
   "source": [
    "Assign `secret_phrase` to the secret phrase given at the end of the accommodations survey. Make sure the phrase is in quotes (i.e. is a string)!\n"
   ]
  },
  {
   "cell_type": "code",
   "execution_count": 2,
   "metadata": {
    "tags": []
   },
   "outputs": [],
   "source": [
    "secret_phrase = 'single'"
   ]
  },
  {
   "cell_type": "code",
   "execution_count": 3,
   "metadata": {
    "deletable": false,
    "editable": false
   },
   "outputs": [
    {
     "data": {
      "text/html": [
       "<p><strong><pre style='display: inline;'>q0_1</pre></strong> passed! 🌈</p>"
      ],
      "text/plain": [
       "q0_1 results: All test cases passed!"
      ]
     },
     "execution_count": 3,
     "metadata": {},
     "output_type": "execute_result"
    }
   ],
   "source": [
    "grader.check(\"q0_1\")"
   ]
  },
  {
   "cell_type": "markdown",
   "metadata": {},
   "source": [
    "## 1. 2021 Cal Football Season"
   ]
  },
  {
   "cell_type": "code",
   "execution_count": 4,
   "metadata": {},
   "outputs": [],
   "source": [
    "# Run this cell to set up the notebook, but please don't change it.\n",
    "\n",
    "# These lines import the Numpy and Datascience modules.\n",
    "import numpy as np\n",
    "from datascience import *\n",
    "\n",
    "# These lines do some fancy plotting magic.\n",
    "import matplotlib\n",
    "%matplotlib inline\n",
    "import matplotlib.pyplot as plt\n",
    "plt.style.use('fivethirtyeight')\n",
    "import warnings\n",
    "warnings.simplefilter('ignore', FutureWarning)"
   ]
  },
  {
   "cell_type": "markdown",
   "metadata": {},
   "source": [
    "James is trying to analyze how well the Cal football team performed in the 2021 season. A football game is divided into four periods, called quarters. The number of points Cal scored in each quarter and the number of points their opponent scored in each quarter are stored in a table called `cal_fb.csv`."
   ]
  },
  {
   "cell_type": "code",
   "execution_count": 5,
   "metadata": {
    "deletable": false,
    "editable": false
   },
   "outputs": [
    {
     "data": {
      "text/html": [
       "<table border=\"1\" class=\"dataframe\">\n",
       "    <thead>\n",
       "        <tr>\n",
       "            <th>Opponent</th> <th>Cal 1Q</th> <th>Cal 2Q</th> <th>Cal 3Q</th> <th>Cal 4Q</th> <th>Opp 1Q</th> <th>Opp 2Q</th> <th>Opp 3Q</th> <th>Opp 4Q</th>\n",
       "        </tr>\n",
       "    </thead>\n",
       "    <tbody>\n",
       "        <tr>\n",
       "            <td>Nevada          </td> <td>14    </td> <td>0     </td> <td>0     </td> <td>3     </td> <td>0     </td> <td>13    </td> <td>9     </td> <td>0     </td>\n",
       "        </tr>\n",
       "        <tr>\n",
       "            <td>TCU             </td> <td>6     </td> <td>13    </td> <td>0     </td> <td>13    </td> <td>0     </td> <td>14    </td> <td>7     </td> <td>13    </td>\n",
       "        </tr>\n",
       "        <tr>\n",
       "            <td>Sacramento State</td> <td>14    </td> <td>7     </td> <td>14    </td> <td>7     </td> <td>6     </td> <td>0     </td> <td>14    </td> <td>10    </td>\n",
       "        </tr>\n",
       "        <tr>\n",
       "            <td>Washington      </td> <td>7     </td> <td>3     </td> <td>7     </td> <td>7     </td> <td>7     </td> <td>14    </td> <td>3     </td> <td>7     </td>\n",
       "        </tr>\n",
       "        <tr>\n",
       "            <td>Washington State</td> <td>6     </td> <td>0     </td> <td>0     </td> <td>0     </td> <td>14    </td> <td>0     </td> <td>7     </td> <td>0     </td>\n",
       "        </tr>\n",
       "        <tr>\n",
       "            <td>Oregon          </td> <td>7     </td> <td>0     </td> <td>3     </td> <td>7     </td> <td>3     </td> <td>7     </td> <td>0     </td> <td>14    </td>\n",
       "        </tr>\n",
       "        <tr>\n",
       "            <td>Colorado        </td> <td>10    </td> <td>13    </td> <td>0     </td> <td>3     </td> <td>0     </td> <td>3     </td> <td>0     </td> <td>0     </td>\n",
       "        </tr>\n",
       "        <tr>\n",
       "            <td>Oregon State    </td> <td>10    </td> <td>7     </td> <td>14    </td> <td>8     </td> <td>0     </td> <td>10    </td> <td>7     </td> <td>8     </td>\n",
       "        </tr>\n",
       "        <tr>\n",
       "            <td>Arizona         </td> <td>0     </td> <td>0     </td> <td>3     </td> <td>0     </td> <td>0     </td> <td>0     </td> <td>3     </td> <td>7     </td>\n",
       "        </tr>\n",
       "        <tr>\n",
       "            <td>Stanford        </td> <td>0     </td> <td>14    </td> <td>13    </td> <td>14    </td> <td>0     </td> <td>3     </td> <td>0     </td> <td>8     </td>\n",
       "        </tr>\n",
       "        <tr>\n",
       "            <td>UCLA            </td> <td>0     </td> <td>14    </td> <td>0     </td> <td>0     </td> <td>3     </td> <td>14    </td> <td>10    </td> <td>15    </td>\n",
       "        </tr>\n",
       "        <tr>\n",
       "            <td>USC             </td> <td>3     </td> <td>14    </td> <td>0     </td> <td>7     </td> <td>0     </td> <td>7     </td> <td>0     </td> <td>7     </td>\n",
       "        </tr>\n",
       "    </tbody>\n",
       "</table>"
      ],
      "text/plain": [
       "<IPython.core.display.HTML object>"
      ]
     },
     "metadata": {},
     "output_type": "display_data"
    }
   ],
   "source": [
    "# Just run this cell\n",
    "# Read in the cal_fb csv file\n",
    "games = Table().read_table(\"cal_fb.csv\")\n",
    "games.show()"
   ]
  },
  {
   "cell_type": "markdown",
   "metadata": {},
   "source": [
    "Let's start by finding the total points each team scored in a game.\n",
    "\n",
    "**Question 1.** Write a function called `sum_scores`.  It should take four arguments, where each argument represents integers corresponding to the team's score for each quarter. It should return the team's total score for that game. **(2 Points)**\n",
    "\n",
    "*Hint:* Don't overthink this question!\n",
    "\n"
   ]
  },
  {
   "cell_type": "code",
   "execution_count": 6,
   "metadata": {
    "tags": []
   },
   "outputs": [
    {
     "data": {
      "text/plain": [
       "24"
      ]
     },
     "execution_count": 6,
     "metadata": {},
     "output_type": "execute_result"
    }
   ],
   "source": [
    "def sum_scores(a, b, c, d):\n",
    "    '''Returns the total score calculated by adding up the score of each quarter'''\n",
    "    return a+b+c+d\n",
    "\n",
    "sum_scores(14, 7, 3, 0) #DO NOT CHANGE THIS LINE"
   ]
  },
  {
   "cell_type": "code",
   "execution_count": 7,
   "metadata": {
    "deletable": false,
    "editable": false
   },
   "outputs": [
    {
     "data": {
      "text/html": [
       "<p><strong><pre style='display: inline;'>q1_1</pre></strong> passed! 🌟</p>"
      ],
      "text/plain": [
       "q1_1 results: All test cases passed!"
      ]
     },
     "execution_count": 7,
     "metadata": {},
     "output_type": "execute_result"
    }
   ],
   "source": [
    "grader.check(\"q1_1\")"
   ]
  },
  {
   "cell_type": "markdown",
   "metadata": {},
   "source": [
    "**Question 2.** Create a new table `final_scores` with three columns in this *specific* order: `Opponent`, `Cal Score`, `Opponent Score`. You will have to create the `Cal Score` and `Opponent Score` columns. Use the function `sum_scores` you just defined in the previous question for this problem. **(5 Points)**\n",
    "\n",
    "*Hint:* If you want to apply a function that takes in multiple arguments, you can pass multiple column names as arguments in `tbl.apply()`. The column values will be passed into the corresponding arguments of the function. Take a look at the Python Reference Sheet and Lecture 13's demo for syntax.\n",
    "\n",
    "*Note:* If you’re running into issues creating `final_scores`, check that `cal_scores` and `opp_scores` output what you want. If you're encountering `TypeError`s, check the [Python Reference](https://www.data8.org/fa23/reference/) to see if the inputs/outputs of the function are what you expect.\n"
   ]
  },
  {
   "cell_type": "code",
   "execution_count": 11,
   "metadata": {
    "tags": []
   },
   "outputs": [
    {
     "data": {
      "text/html": [
       "<table border=\"1\" class=\"dataframe\">\n",
       "    <thead>\n",
       "        <tr>\n",
       "            <th>Opponent</th> <th>Cal Score</th> <th>Opponent Score</th>\n",
       "        </tr>\n",
       "    </thead>\n",
       "    <tbody>\n",
       "        <tr>\n",
       "            <td>Nevada          </td> <td>17       </td> <td>22            </td>\n",
       "        </tr>\n",
       "        <tr>\n",
       "            <td>TCU             </td> <td>32       </td> <td>34            </td>\n",
       "        </tr>\n",
       "        <tr>\n",
       "            <td>Sacramento State</td> <td>42       </td> <td>30            </td>\n",
       "        </tr>\n",
       "        <tr>\n",
       "            <td>Washington      </td> <td>24       </td> <td>31            </td>\n",
       "        </tr>\n",
       "        <tr>\n",
       "            <td>Washington State</td> <td>6        </td> <td>21            </td>\n",
       "        </tr>\n",
       "        <tr>\n",
       "            <td>Oregon          </td> <td>17       </td> <td>24            </td>\n",
       "        </tr>\n",
       "        <tr>\n",
       "            <td>Colorado        </td> <td>26       </td> <td>3             </td>\n",
       "        </tr>\n",
       "        <tr>\n",
       "            <td>Oregon State    </td> <td>39       </td> <td>25            </td>\n",
       "        </tr>\n",
       "        <tr>\n",
       "            <td>Arizona         </td> <td>3        </td> <td>10            </td>\n",
       "        </tr>\n",
       "        <tr>\n",
       "            <td>Stanford        </td> <td>41       </td> <td>11            </td>\n",
       "        </tr>\n",
       "    </tbody>\n",
       "</table>\n",
       "<p>... (2 rows omitted)</p>"
      ],
      "text/plain": [
       "Opponent         | Cal Score | Opponent Score\n",
       "Nevada           | 17        | 22\n",
       "TCU              | 32        | 34\n",
       "Sacramento State | 42        | 30\n",
       "Washington       | 24        | 31\n",
       "Washington State | 6         | 21\n",
       "Oregon           | 17        | 24\n",
       "Colorado         | 26        | 3\n",
       "Oregon State     | 39        | 25\n",
       "Arizona          | 3         | 10\n",
       "Stanford         | 41        | 11\n",
       "... (2 rows omitted)"
      ]
     },
     "execution_count": 11,
     "metadata": {},
     "output_type": "execute_result"
    }
   ],
   "source": [
    "cal_scores = games.apply(sum_scores,'Cal 1Q','Cal 2Q','Cal 3Q','Cal 4Q')\n",
    "opp_scores = games.apply(sum_scores,'Opp 1Q','Opp 2Q','Opp 3Q','Opp 4Q')\n",
    "final_scores = Table().with_columns(\n",
    "  'Opponent',games.column(0),\n",
    "  'Cal Score',cal_scores,\n",
    "  'Opponent Score',opp_scores\n",
    ")\n",
    "final_scores"
   ]
  },
  {
   "cell_type": "code",
   "execution_count": 12,
   "metadata": {
    "deletable": false,
    "editable": false
   },
   "outputs": [
    {
     "data": {
      "text/html": [
       "<p><strong><pre style='display: inline;'>q1_2</pre></strong> passed! 🌟</p>"
      ],
      "text/plain": [
       "q1_2 results: All test cases passed!"
      ]
     },
     "execution_count": 12,
     "metadata": {},
     "output_type": "execute_result"
    }
   ],
   "source": [
    "grader.check(\"q1_2\")"
   ]
  },
  {
   "cell_type": "markdown",
   "metadata": {},
   "source": [
    "We can get specific row objects from a table. You can use `tbl.row(n)` to get the `n`th row of a table. `row.item(\"column_name\")` will allow you to select the element that corresponds to `column_name` in a particular row. Here's an example:"
   ]
  },
  {
   "cell_type": "code",
   "execution_count": 13,
   "metadata": {
    "deletable": false,
    "editable": false
   },
   "outputs": [
    {
     "data": {
      "text/plain": [
       "Row(Opponent='Stanford', Cal 1Q=0, Cal 2Q=14, Cal 3Q=13, Cal 4Q=14, Opp 1Q=0, Opp 2Q=3, Opp 3Q=0, Opp 4Q=8)"
      ]
     },
     "execution_count": 13,
     "metadata": {},
     "output_type": "execute_result"
    }
   ],
   "source": [
    "# Just run this cell\n",
    "# We got the Axe!\n",
    "games.row(9) # <-- this will return a row object"
   ]
  },
  {
   "cell_type": "code",
   "execution_count": 14,
   "metadata": {
    "deletable": false,
    "editable": false
   },
   "outputs": [
    {
     "data": {
      "text/plain": [
       "14"
      ]
     },
     "execution_count": 14,
     "metadata": {},
     "output_type": "execute_result"
    }
   ],
   "source": [
    "# Just run this cell\n",
    "games.row(9).item(\"Cal 4Q\") # <-- this will return a item (e.g. an int) from a row object"
   ]
  },
  {
   "cell_type": "markdown",
   "metadata": {},
   "source": [
    "**Question 3.** We want to see for a particular game whether or not Cal lost. Write a function called `did_cal_lose`.  It should take one argument: a **row object** from the `final_scores` table. It should return either `True` if Cal's score was less than the Opponent's score, and `False` otherwise. **(5 Points)**\n",
    "\n",
    "*Note 1*: \"Row object\" means a row from the table extracted (behind the scenes) using `tbl.row(index)` that contains all the data for that specific row. It is **not** the index of a row. Do not try and call `final_scores.row(row)` inside of the function.\n",
    "\n",
    "*Note 2*: If you're still confused by row objects, try printing out `final_scores.row(1)` in a new cell to visually see what it looks like! This piece of code is pulling out the row object located at index 1 of the `final_scores` table and returning it. When you display it in a cell, you'll see that it is not located within a table, but is instead a standalone row object!\n"
   ]
  },
  {
   "cell_type": "code",
   "execution_count": 15,
   "id": "19deffd1",
   "metadata": {},
   "outputs": [
    {
     "data": {
      "text/plain": [
       "Row(Opponent='TCU', Cal Score=32, Opponent Score=34)"
      ]
     },
     "execution_count": 15,
     "metadata": {},
     "output_type": "execute_result"
    }
   ],
   "source": [
    "final_scores.row(1)"
   ]
  },
  {
   "cell_type": "code",
   "execution_count": 19,
   "metadata": {
    "tags": []
   },
   "outputs": [
    {
     "data": {
      "text/plain": [
       "True"
      ]
     },
     "execution_count": 19,
     "metadata": {},
     "output_type": "execute_result"
    }
   ],
   "source": [
    "def did_cal_lose(row):\n",
    "    if row.item('Cal Score') > row.item('Opponent Score'):\n",
    "        return False\n",
    "    else:\n",
    "        return True\n",
    "\n",
    "did_cal_lose(final_scores.row(1)) #DO NOT CHANGE THIS LINE"
   ]
  },
  {
   "cell_type": "code",
   "execution_count": 20,
   "metadata": {
    "deletable": false,
    "editable": false
   },
   "outputs": [
    {
     "data": {
      "text/html": [
       "<p><strong><pre style='display: inline;'>q1_3</pre></strong> passed! 🙌</p>"
      ],
      "text/plain": [
       "q1_3 results: All test cases passed!"
      ]
     },
     "execution_count": 20,
     "metadata": {},
     "output_type": "execute_result"
    }
   ],
   "source": [
    "grader.check(\"q1_3\")"
   ]
  },
  {
   "attachments": {},
   "cell_type": "markdown",
   "metadata": {},
   "source": [
    "**Question 4.** James wants to see how Cal did against every opponent during the 2021 season. Using the `final_scores` table:\n",
    "\n",
    "1. Assign `results_array` to an array of `True` and `False` values that correspond to whether or not Cal lost.\n",
    "2. Add `results_array` to the `final_scores` table in a column named `Results`, and assign this to `final_scores_with_results`.\n",
    "3. Then, respectively assign the number of wins and losses Cal had to `cal_wins` and `cal_losses`.\n",
    "\n",
    "**(10 Points)**\n",
    "\n",
    "*Hint*: `tbl.apply()` might be helpful. Refer to the [Python Reference](https://www.data8.org/fa23/reference/) if you're unsure how it works!\n"
   ]
  },
  {
   "cell_type": "code",
   "execution_count": 33,
   "metadata": {
    "tags": []
   },
   "outputs": [
    {
     "name": "stdout",
     "output_type": "stream",
     "text": [
      "In the 2021 Season, Cal Football won 5 games and lost 7 games. Go Bears! 🐻\n"
     ]
    }
   ],
   "source": [
    "def did_cal_los(a,b):\n",
    "    if a > b:\n",
    "        return False\n",
    "    else:\n",
    "        return True\n",
    "results_array = final_scores.apply(did_cal_los,'Cal Score','Opponent Score')\n",
    "final_scores_with_results = final_scores.with_column(\n",
    "  'Results',results_array\n",
    ")\n",
    "# print(final_scores_with_results)\n",
    "cal_losses = final_scores_with_results.where('Results',are.equal_to(True)).num_rows\n",
    "\n",
    "cal_wins = final_scores_with_results.where('Results',are.equal_to(False)).num_rows\n",
    "# print(cal_losses)\n",
    "# Don't delete or edit the following line:\n",
    "print(f\"In the 2021 Season, Cal Football won {cal_wins} games and lost {cal_losses} games. Go Bears! 🐻\")"
   ]
  },
  {
   "cell_type": "code",
   "execution_count": 24,
   "metadata": {
    "deletable": false,
    "editable": false
   },
   "outputs": [
    {
     "data": {
      "text/html": [
       "<p><strong><pre style='display: inline;'>q1_4</pre></strong> passed! 🍀</p>"
      ],
      "text/plain": [
       "q1_4 results: All test cases passed!"
      ]
     },
     "execution_count": 24,
     "metadata": {},
     "output_type": "execute_result"
    }
   ],
   "source": [
    "grader.check(\"q1_4\")"
   ]
  },
  {
   "cell_type": "markdown",
   "metadata": {},
   "source": [
    "## 2. Unrolling Loops (Optional)"
   ]
  },
  {
   "cell_type": "markdown",
   "metadata": {},
   "source": [
    "**This section of HW5 is optional. Do it for your own practice, but it will not be incorporated into the final grading!**\n",
    "\n",
    "\"Unrolling\" a `for` loop means to manually write out all the code that it executes.  The result is code that does the same thing as the loop, but without the structure of the loop.  For example, for the following loop:\n",
    "\n",
    "    for num in np.arange(3):\n",
    "        print(\"The number is\", num)\n",
    "\n",
    "The unrolled version would look like this:\n",
    "\n",
    "    print(\"The number is\", 0)\n",
    "    print(\"The number is\", 1)\n",
    "    print(\"The number is\", 2)\n",
    "\n",
    "\n",
    "Unrolling a `for` loop is a great way to understand what the loop is doing during each step. In this exercise, you'll practice unrolling a `for` loop.\n",
    "\n",
    "\n",
    "In the question below, write code that does the same thing as the given code, but with any `for` loops unrolled.  It's a good idea to run both your answer and the original code to verify that they do the same thing.  (Of course, if the code does something random, you'll get a different random outcome than the original code!)"
   ]
  },
  {
   "attachments": {},
   "cell_type": "markdown",
   "metadata": {
    "deletable": false
   },
   "source": [
    "**Optional Question 1.** Unroll the code below.\n"
   ]
  },
  {
   "cell_type": "code",
   "execution_count": 34,
   "metadata": {},
   "outputs": [
    {
     "name": "stdout",
     "output_type": "stream",
     "text": [
      "Knock. \n",
      "Who's there?\n",
      "Banana.\n",
      "Banana who?\n",
      "Knock. Knock. \n",
      "Who's there?\n",
      "Banana.\n",
      "Banana who?\n",
      "Knock. Knock. Knock. \n",
      "Who's there?\n",
      "Banana.\n",
      "Banana who?\n",
      "Knock, knock.\n",
      "Who's there?\n",
      "Orange.\n",
      "Orange who?\n",
      "Orange you glad I didn't say banana?\n"
     ]
    }
   ],
   "source": [
    "for joke_iteration in range(3):\n",
    "    print(\"Knock. \" * (joke_iteration + 1))\n",
    "    print(\"Who's there?\")\n",
    "    print(\"Banana.\")\n",
    "    print(\"Banana who?\")\n",
    "print(\"Knock, knock.\")\n",
    "print(\"Who's there?\")\n",
    "print(\"Orange.\")\n",
    "print(\"Orange who?\")\n",
    "print(\"Orange you glad I didn't say banana?\")"
   ]
  },
  {
   "cell_type": "code",
   "execution_count": null,
   "metadata": {
    "for_assignment_type": "solution",
    "tags": []
   },
   "outputs": [],
   "source": [
    "..."
   ]
  },
  {
   "attachments": {},
   "cell_type": "markdown",
   "metadata": {},
   "source": [
    "Congratulations, you are done with Homework 5!\n",
    "\n",
    "**Important submission steps:** \n",
    "\n",
    "1. Run the tests and verify that they all pass.\n",
    "2. Choose **Save Notebook** from the **File** menu, then **run the final cell**. \n",
    "3. Click the link to download the zip file.\n",
    "4. Go to [Gradescope](https://www.gradescope.com/courses/576157) and submit the zip file to the corresponding assignment. The name of this assignment is \"HW 05 Autograder\". "
   ]
  },
  {
   "attachments": {},
   "cell_type": "markdown",
   "metadata": {},
   "source": [
    "## Pets of Data 8\n",
    "\n",
    "Mel says congrats on finishing Homework 5!\n",
    "\n",
    "<img src=\"./mel.jpeg\" width=\"30%\" alt=\"Close up picture of dog smiling, sitting in leaves.\"/>\n",
    "\n",
    "Pet of the week: **Mel**"
   ]
  },
  {
   "cell_type": "markdown",
   "metadata": {
    "deletable": false,
    "editable": false
   },
   "source": [
    "## Submission\n",
    "\n",
    "Make sure you have run all cells in your notebook in order before running the cell below, so that all images/graphs appear in the output. The cell below will generate a zip file for you to submit. **Please save before exporting!**"
   ]
  },
  {
   "cell_type": "code",
   "execution_count": null,
   "metadata": {
    "deletable": false,
    "editable": false
   },
   "outputs": [],
   "source": [
    "# Save your notebook first, then run this cell to export your submission.\n",
    "grader.export(pdf=False, run_tests=True)"
   ]
  },
  {
   "cell_type": "markdown",
   "metadata": {},
   "source": [
    " "
   ]
  }
 ],
 "metadata": {
  "kernelspec": {
   "display_name": "Python 3",
   "language": "python",
   "name": "python3"
  },
  "language_info": {
   "codemirror_mode": {
    "name": "ipython",
    "version": 3
   },
   "file_extension": ".py",
   "mimetype": "text/x-python",
   "name": "python",
   "nbconvert_exporter": "python",
   "pygments_lexer": "ipython3",
   "version": "3.9.18"
  },
  "otter": {
   "OK_FORMAT": true,
   "tests": {
    "q0_1": {
     "name": "q0_1",
     "points": [
      0
     ],
     "suites": [
      {
       "cases": [
        {
         "code": ">>> # Make sure that your answer is a string\n>>> type(secret_phrase) == str \nTrue",
         "hidden": false,
         "locked": false
        }
       ],
       "scored": true,
       "setup": "",
       "teardown": "",
       "type": "doctest"
      }
     ]
    },
    "q1_1": {
     "name": "q1_1",
     "points": [
      1,
      1
     ],
     "suites": [
      {
       "cases": [
        {
         "code": ">>> sum_scores(2, 3, 6, 1)\n12",
         "hidden": false,
         "locked": false
        },
        {
         "code": ">>> sum_scores(-2,3,5,-10)\n-4",
         "hidden": false,
         "locked": false
        }
       ],
       "scored": true,
       "setup": "",
       "teardown": "",
       "type": "doctest"
      }
     ]
    },
    "q1_2": {
     "name": "q1_2",
     "points": [
      0,
      0
     ],
     "suites": [
      {
       "cases": [
        {
         "code": ">>> final_scores.num_columns\n3",
         "hidden": false,
         "locked": false
        },
        {
         "code": ">>> set(['Opponent', 'Cal Score', 'Opponent Score']) == set(final_scores.labels)\nTrue",
         "hidden": false,
         "locked": false
        }
       ],
       "scored": true,
       "setup": "",
       "teardown": "",
       "type": "doctest"
      }
     ]
    },
    "q1_3": {
     "name": "q1_3",
     "points": [
      0,
      2
     ],
     "suites": [
      {
       "cases": [
        {
         "code": ">>> 'did_cal_lose' in globals()\nTrue",
         "hidden": false,
         "locked": false
        },
        {
         "code": ">>> did_cal_lose(final_scores.row(1))\nTrue",
         "hidden": false,
         "locked": false
        }
       ],
       "scored": true,
       "setup": "",
       "teardown": "",
       "type": "doctest"
      }
     ]
    },
    "q1_4": {
     "name": "q1_4",
     "points": [
      0,
      0
     ],
     "suites": [
      {
       "cases": [
        {
         "code": ">>> 0 <= cal_wins <= 10\nTrue",
         "hidden": false,
         "locked": false
        },
        {
         "code": ">>> 0 <= cal_losses <= 10\nTrue",
         "hidden": false,
         "locked": false
        }
       ],
       "scored": true,
       "setup": "",
       "teardown": "",
       "type": "doctest"
      }
     ]
    }
   }
  }
 },
 "nbformat": 4,
 "nbformat_minor": 5
}
